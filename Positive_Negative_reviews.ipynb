{
  "nbformat": 4,
  "nbformat_minor": 0,
  "metadata": {
    "colab": {
      "name": "Positive_Negative reviews.ipynb",
      "provenance": [],
      "authorship_tag": "ABX9TyO9uVfuZQMLSIwxUgpq4bi7",
      "include_colab_link": true
    },
    "kernelspec": {
      "name": "python3",
      "display_name": "Python 3"
    },
    "language_info": {
      "name": "python"
    },
    "accelerator": "GPU"
  },
  "cells": [
    {
      "cell_type": "markdown",
      "metadata": {
        "id": "view-in-github",
        "colab_type": "text"
      },
      "source": [
        "<a href=\"https://colab.research.google.com/github/HariPrabu741/RNN/blob/main/Positive_Negative_reviews.ipynb\" target=\"_parent\"><img src=\"https://colab.research.google.com/assets/colab-badge.svg\" alt=\"Open In Colab\"/></a>"
      ]
    },
    {
      "cell_type": "code",
      "metadata": {
        "colab": {
          "base_uri": "https://localhost:8080/"
        },
        "id": "netSJ_gYQzx1",
        "outputId": "5356c16a-c213-4c58-85b3-2d9bfbbb2e75"
      },
      "source": [
        "!wget https://www.dropbox.com/s/pdhwlpi2yeie0ol/movie-reviews-dataset.zip"
      ],
      "execution_count": 1,
      "outputs": [
        {
          "output_type": "stream",
          "name": "stdout",
          "text": [
            "--2021-09-02 02:11:45--  https://www.dropbox.com/s/pdhwlpi2yeie0ol/movie-reviews-dataset.zip\n",
            "Resolving www.dropbox.com (www.dropbox.com)... 162.125.64.18, 2620:100:6020:18::a27d:4012\n",
            "Connecting to www.dropbox.com (www.dropbox.com)|162.125.64.18|:443... connected.\n",
            "HTTP request sent, awaiting response... 301 Moved Permanently\n",
            "Location: /s/raw/pdhwlpi2yeie0ol/movie-reviews-dataset.zip [following]\n",
            "--2021-09-02 02:11:45--  https://www.dropbox.com/s/raw/pdhwlpi2yeie0ol/movie-reviews-dataset.zip\n",
            "Reusing existing connection to www.dropbox.com:443.\n",
            "HTTP request sent, awaiting response... 302 Found\n",
            "Location: https://uc434e5bb18c784494a72418ff4e.dl.dropboxusercontent.com/cd/0/inline/BVWq3dykkbEbbiW7u7gutTiscHJ_kYs3F2kPZY575Rn_E4CcJp-chNsaa7d0iKLO--kwcSMVj8t4ELdolK91W8nSyboWaitY6o3f1iij-3Mmv3VcwaweGnk9XFTLtbf3kMT0d7qx75PVKaLRxdi5u4Mq/file# [following]\n",
            "--2021-09-02 02:11:46--  https://uc434e5bb18c784494a72418ff4e.dl.dropboxusercontent.com/cd/0/inline/BVWq3dykkbEbbiW7u7gutTiscHJ_kYs3F2kPZY575Rn_E4CcJp-chNsaa7d0iKLO--kwcSMVj8t4ELdolK91W8nSyboWaitY6o3f1iij-3Mmv3VcwaweGnk9XFTLtbf3kMT0d7qx75PVKaLRxdi5u4Mq/file\n",
            "Resolving uc434e5bb18c784494a72418ff4e.dl.dropboxusercontent.com (uc434e5bb18c784494a72418ff4e.dl.dropboxusercontent.com)... 162.125.64.15, 2620:100:6020:15::a27d:400f\n",
            "Connecting to uc434e5bb18c784494a72418ff4e.dl.dropboxusercontent.com (uc434e5bb18c784494a72418ff4e.dl.dropboxusercontent.com)|162.125.64.15|:443... connected.\n",
            "HTTP request sent, awaiting response... 302 Found\n",
            "Location: /cd/0/inline2/BVWfCKvqev3xMULCH68oPqKZa75-o0IGntmA7LzJwgLSeo5AgWaFvGYubMGiSYUtNo_47W1UDK4G5e4tQPDnen8h9DZ6xUQH-fm9XLx0cLZ6cDMCUgoVHUUtJbyIZrlfBY3BVH_gk-Xu8onR5JDe9Y6GiSLOogb6L0FyQhPSACdeQK5YacY6FinZVqlAEcRcsePCN5U6OoZEWvrAX_iMS48lNF1DSpgGbfV8OocgilOJgQxYSflsJfel8ezp0BM3wmOcZ3BaAg9XvWSXN9MihU2hODjE97QoUbIhPgtTSnWTafskpiccCdjoUbno-AoaGkATlJ2GUsWFj7zVFep2IJhm0K-J3HzoaZbduXlFiOFG32xL80gcM9FkJ1A5xpc9FME/file [following]\n",
            "--2021-09-02 02:11:46--  https://uc434e5bb18c784494a72418ff4e.dl.dropboxusercontent.com/cd/0/inline2/BVWfCKvqev3xMULCH68oPqKZa75-o0IGntmA7LzJwgLSeo5AgWaFvGYubMGiSYUtNo_47W1UDK4G5e4tQPDnen8h9DZ6xUQH-fm9XLx0cLZ6cDMCUgoVHUUtJbyIZrlfBY3BVH_gk-Xu8onR5JDe9Y6GiSLOogb6L0FyQhPSACdeQK5YacY6FinZVqlAEcRcsePCN5U6OoZEWvrAX_iMS48lNF1DSpgGbfV8OocgilOJgQxYSflsJfel8ezp0BM3wmOcZ3BaAg9XvWSXN9MihU2hODjE97QoUbIhPgtTSnWTafskpiccCdjoUbno-AoaGkATlJ2GUsWFj7zVFep2IJhm0K-J3HzoaZbduXlFiOFG32xL80gcM9FkJ1A5xpc9FME/file\n",
            "Reusing existing connection to uc434e5bb18c784494a72418ff4e.dl.dropboxusercontent.com:443.\n",
            "HTTP request sent, awaiting response... 200 OK\n",
            "Length: 62951389 (60M) [application/zip]\n",
            "Saving to: ‘movie-reviews-dataset.zip’\n",
            "\n",
            "movie-reviews-datas 100%[===================>]  60.03M  15.1MB/s    in 4.0s    \n",
            "\n",
            "2021-09-02 02:11:51 (15.1 MB/s) - ‘movie-reviews-dataset.zip’ saved [62951389/62951389]\n",
            "\n"
          ]
        }
      ]
    },
    {
      "cell_type": "code",
      "metadata": {
        "id": "i61CfxnqRqdD"
      },
      "source": [
        "!unzip -q '/content/movie-reviews-dataset.zip'"
      ],
      "execution_count": 3,
      "outputs": []
    },
    {
      "cell_type": "code",
      "metadata": {
        "id": "wk8wzmkBR65I"
      },
      "source": [
        "from tensorflow.keras.preprocessing import text_dataset_from_directory\n",
        "from tensorflow.strings import regex_replace\n",
        "from tensorflow.keras.layers.experimental.preprocessing import TextVectorization\n",
        "from tensorflow.keras.models import Sequential\n",
        "from tensorflow.keras import Input\n",
        "from tensorflow.keras.layers import Dense,RNN,Dropout,Embedding,SimpleRNNCell"
      ],
      "execution_count": 4,
      "outputs": []
    },
    {
      "cell_type": "code",
      "metadata": {
        "id": "S1MbyL_QUPd1"
      },
      "source": [
        "def prepare_data(dir):\n",
        "  data=text_dataset_from_directory(dir)\n",
        "  return data.map(lambda text,label:(regex_replace(text,'<br />',''),label),)"
      ],
      "execution_count": 5,
      "outputs": []
    },
    {
      "cell_type": "code",
      "metadata": {
        "colab": {
          "base_uri": "https://localhost:8080/"
        },
        "id": "O2arU6IbW4fr",
        "outputId": "b92ae3eb-d05a-4a7f-fb8e-0488ae714b64"
      },
      "source": [
        "train_data=prepare_data(\"/content/movie-reviews-dataset/train\")\n",
        "test_data=prepare_data('/content/movie-reviews-dataset/test')"
      ],
      "execution_count": 6,
      "outputs": [
        {
          "output_type": "stream",
          "name": "stdout",
          "text": [
            "Found 25000 files belonging to 2 classes.\n",
            "Found 25000 files belonging to 2 classes.\n"
          ]
        }
      ]
    },
    {
      "cell_type": "code",
      "metadata": {
        "colab": {
          "base_uri": "https://localhost:8080/"
        },
        "id": "q2WyrcrcXIlh",
        "outputId": "b849268f-d4dc-4472-d59b-160fec7c9afe"
      },
      "source": [
        "for text_batch,label_batch in train_data.take(1):\n",
        "  print(text_batch.numpy()[0])\n",
        "  print(label_batch.numpy()[0])"
      ],
      "execution_count": 10,
      "outputs": [
        {
          "output_type": "stream",
          "name": "stdout",
          "text": [
            "b\"A great concept, a great cast, and what a pity there wasn't more time to flesh out the story. I loved it and wanted more. Dench, Dukakis, and Laine, now there are some REAL women! Still, Dench and her character alone had enough substance to carry the script over some of its lesser moments. I have it on tape and will continue to watch it, hoping that there is a clue at the end that suggests there will be a sequel.Top drawer! - No Question! - No Argument!\"\n",
            "1\n"
          ]
        }
      ]
    },
    {
      "cell_type": "code",
      "metadata": {
        "id": "9f6yPOeYXPKd"
      },
      "source": [
        "model=Sequential()"
      ],
      "execution_count": 11,
      "outputs": []
    },
    {
      "cell_type": "code",
      "metadata": {
        "id": "NvLn_1XgYC0Y"
      },
      "source": [
        "model.add(Input(shape=(1,),dtype='string'))"
      ],
      "execution_count": 12,
      "outputs": []
    },
    {
      "cell_type": "code",
      "metadata": {
        "id": "9hY-_5wtYS-P"
      },
      "source": [
        "max_tokens=1000\n",
        "max_len=100\n",
        "vectorize_layer=TextVectorization(max_tokens=max_tokens,output_mode='int',output_sequence_length=max_len)"
      ],
      "execution_count": 13,
      "outputs": []
    },
    {
      "cell_type": "code",
      "metadata": {
        "id": "s7wZjPF4ZH3h"
      },
      "source": [
        "train_texts=train_data.map(lambda text,label:text)\n",
        "vectorize_layer.adapt(train_texts)\n",
        "model.add(vectorize_layer)"
      ],
      "execution_count": 14,
      "outputs": []
    },
    {
      "cell_type": "code",
      "metadata": {
        "id": "hGRY8qImacHq"
      },
      "source": [
        "model.add(Embedding(max_tokens+1,128))\n",
        "rnn=RNN(SimpleRNNCell(64),return_sequences=False,return_state=False)\n",
        "model.add(rnn)\n",
        "model.add(Dense(64,activation='relu'))\n",
        "model.add(Dense(1,activation='sigmoid'))"
      ],
      "execution_count": 15,
      "outputs": []
    },
    {
      "cell_type": "code",
      "metadata": {
        "id": "ueMdOchHbNwy"
      },
      "source": [
        "model.compile(loss='binary_crossentropy',optimizer='adam',metrics=['accuracy'])"
      ],
      "execution_count": 16,
      "outputs": []
    },
    {
      "cell_type": "code",
      "metadata": {
        "colab": {
          "base_uri": "https://localhost:8080/"
        },
        "id": "PLN-1Gk1bjc3",
        "outputId": "50123444-740e-436f-d94a-6643ccda2697"
      },
      "source": [
        "model.fit(train_data,epochs=10)"
      ],
      "execution_count": 17,
      "outputs": [
        {
          "output_type": "stream",
          "name": "stdout",
          "text": [
            "Epoch 1/10\n",
            "782/782 [==============================] - 107s 132ms/step - loss: 0.6951 - accuracy: 0.5103\n",
            "Epoch 2/10\n",
            "782/782 [==============================] - 103s 131ms/step - loss: 0.6716 - accuracy: 0.5774\n",
            "Epoch 3/10\n",
            "782/782 [==============================] - 103s 132ms/step - loss: 0.6257 - accuracy: 0.6454\n",
            "Epoch 4/10\n",
            "782/782 [==============================] - 104s 132ms/step - loss: 0.6683 - accuracy: 0.5848\n",
            "Epoch 5/10\n",
            "782/782 [==============================] - 104s 132ms/step - loss: 0.6505 - accuracy: 0.6089\n",
            "Epoch 6/10\n",
            "782/782 [==============================] - 104s 133ms/step - loss: 0.6172 - accuracy: 0.6502\n",
            "Epoch 7/10\n",
            "782/782 [==============================] - 103s 132ms/step - loss: 0.6451 - accuracy: 0.6208\n",
            "Epoch 8/10\n",
            "782/782 [==============================] - 104s 133ms/step - loss: 0.6407 - accuracy: 0.6142\n",
            "Epoch 9/10\n",
            "782/782 [==============================] - 103s 132ms/step - loss: 0.6184 - accuracy: 0.6459\n",
            "Epoch 10/10\n",
            "782/782 [==============================] - 101s 129ms/step - loss: 0.6047 - accuracy: 0.6583\n"
          ]
        },
        {
          "output_type": "execute_result",
          "data": {
            "text/plain": [
              "<keras.callbacks.History at 0x7f8b5e756bd0>"
            ]
          },
          "metadata": {},
          "execution_count": 17
        }
      ]
    },
    {
      "cell_type": "code",
      "metadata": {
        "colab": {
          "base_uri": "https://localhost:8080/"
        },
        "id": "9r2fwSmzbtJO",
        "outputId": "7c75e4f7-41a9-4650-8968-1f70f5b4a886"
      },
      "source": [
        "model.evaluate(test_data)"
      ],
      "execution_count": 18,
      "outputs": [
        {
          "output_type": "stream",
          "name": "stdout",
          "text": [
            "782/782 [==============================] - 17s 22ms/step - loss: 0.7167 - accuracy: 0.5462\n"
          ]
        },
        {
          "output_type": "execute_result",
          "data": {
            "text/plain": [
              "[0.7167445421218872, 0.546239972114563]"
            ]
          },
          "metadata": {},
          "execution_count": 18
        }
      ]
    },
    {
      "cell_type": "code",
      "metadata": {
        "id": "fZdneutxb22g"
      },
      "source": [
        "text='I love the movie'"
      ],
      "execution_count": 19,
      "outputs": []
    },
    {
      "cell_type": "code",
      "metadata": {
        "colab": {
          "base_uri": "https://localhost:8080/"
        },
        "id": "TTTLivtib_hf",
        "outputId": "c821ccc7-6fab-45ff-8aed-042ded42f9e9"
      },
      "source": [
        "model.predict([text])  # If value is more than 0.50 it is positive review "
      ],
      "execution_count": 20,
      "outputs": [
        {
          "output_type": "execute_result",
          "data": {
            "text/plain": [
              "array([[0.5952416]], dtype=float32)"
            ]
          },
          "metadata": {},
          "execution_count": 20
        }
      ]
    },
    {
      "cell_type": "code",
      "metadata": {
        "id": "2OClvC07g-Ko"
      },
      "source": [
        "texts='Not nice'"
      ],
      "execution_count": 21,
      "outputs": []
    },
    {
      "cell_type": "code",
      "metadata": {
        "colab": {
          "base_uri": "https://localhost:8080/"
        },
        "id": "K1aBeeyEhckH",
        "outputId": "02bfba2c-f1c0-4a9f-a034-ebe0243a01fa"
      },
      "source": [
        "model.predict([texts])  # If value is less than 0.50 it is negative review"
      ],
      "execution_count": 22,
      "outputs": [
        {
          "output_type": "execute_result",
          "data": {
            "text/plain": [
              "array([[0.461339]], dtype=float32)"
            ]
          },
          "metadata": {},
          "execution_count": 22
        }
      ]
    },
    {
      "cell_type": "code",
      "metadata": {
        "id": "8zJpYqNGhiP_"
      },
      "source": [
        ""
      ],
      "execution_count": null,
      "outputs": []
    }
  ]
}